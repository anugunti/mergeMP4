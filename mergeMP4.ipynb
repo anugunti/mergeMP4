{
 "cells": [
  {
   "cell_type": "markdown",
   "metadata": {},
   "source": [
    "## Imports"
   ]
  },
  {
   "cell_type": "code",
   "execution_count": 51,
   "metadata": {},
   "outputs": [],
   "source": [
    "import os\n",
    "import sys"
   ]
  },
  {
   "cell_type": "markdown",
   "metadata": {},
   "source": [
    "## Class to read config"
   ]
  },
  {
   "cell_type": "code",
   "execution_count": 52,
   "metadata": {},
   "outputs": [],
   "source": [
    "class readCFG:\n",
    "    def __init__(self):\n",
    "        self.INPUT_PATH = \"\"\n",
    "        self.START_INDEX = \"\"\n",
    "        self.END_INDEX = \"\"\n",
    "        self.OUTPUT_PATH = \"\"\n",
    "        self.currentPath = os.getcwd()\n",
    "    \n",
    "    def getIP(self):\n",
    "        cfgFile = \"inputs.cfg\"\n",
    "        with open(cfgFile, 'r') as inFile:\n",
    "            self.params = inFile.readlines()\n",
    "        inFile.close()\n",
    "        paramIDs = ['INPUT_PATH', 'START_INDEX', 'END_INDEX', 'OUTPUT_PATH']\n",
    "        paramVals = [\"\", \"\", \"\", \"\", \"\", \"\"]\n",
    "        for item in self.params:\n",
    "            item = item.rstrip(\"\\n\")\n",
    "            item = item.replace(\" \", \"\")\n",
    "            item = item.split(\"=\")\n",
    "            ind = paramIDs.index(item[0])\n",
    "            paramVals[ind] = item[1]\n",
    "        \n",
    "        self.INPUT_PATH = os.path.abspath(paramVals[0])\n",
    "        self.START_INDEX = int(paramVals[1])\n",
    "        if paramVals[3] == \"\":\n",
    "            self.OUTPUT_PATH = self.INPUT_PATH\n",
    "        else:\n",
    "            self.OUTPUT_PATH = os.path.abspath(paramVals[3])\n",
    "    \n",
    "        if not os.path.isdir(self.INPUT_PATH):\n",
    "            print(\"Input Path does not exist! Please check the path in the config file\")\n",
    "            sys.exit(0)\n",
    "        if not os.path.isdir(self.OUTPUT_PATH):\n",
    "            os.makedirs(self.OUTPUT_PATH)\n",
    "        \n",
    "        self.files = os.listdir(self.INPUT_PATH)\n",
    "        if len(self.files) == 0:\n",
    "            print(\"Input Directory is empty! No files to rename\")\n",
    "            sys.exit(0)\n",
    "        if paramVals[2] == \"\":\n",
    "            self.END_INDEX = 0\n",
    "            for fileName in self.files:\n",
    "                if \".mp4\" in fileName:\n",
    "                    self.END_INDEX += 1\n",
    "        else:\n",
    "            self.END_INDEX = int(paramVals[2])\n",
    "        return self.INPUT_PATH, self.OUTPUT_PATH, self.START_INDEX, self.END_INDEX"
   ]
  },
  {
   "cell_type": "markdown",
   "metadata": {},
   "source": [
    "## Class to read input video files and concatenate them"
   ]
  },
  {
   "cell_type": "code",
   "execution_count": 53,
   "metadata": {},
   "outputs": [],
   "source": [
    "class concatenateVids:\n",
    "    def __init__(self, inPath, outPath, startInd, endInd):\n",
    "        self.inPath = inPath\n",
    "        self.outPath = outPath\n",
    "        self.sInd = startInd\n",
    "        self.eInd = endInd\n",
    "    \n",
    "    def printParams(self):\n",
    "        print(\"Input Video Path = \", self.inPath)\n",
    "        print(\"Concatenated Video Files will be saved here = \", self.outPath)\n",
    "        print(\"First file to be merged is at index = \", self.sInd)\n",
    "        print(\"Last file to be merged is at index = \", self.eInd)\n",
    "        \n",
    "    def convTS(self, inFile):\n",
    "        outFile = inFile.replace(\".mp4\", \".ts\")\n",
    "        print(\"Converting \", inFile, \" to \", outFile)\n",
    "        os.system(\"ffmpeg -i \" + inFile + \" -c copy \" + outFile)\n",
    "        return outFile\n",
    "    \n",
    "    def removeFiles(self):\n",
    "        print(\"Removing ts Files\")\n",
    "        for fileName in self.outFiles:\n",
    "            print(\"Removing file = \", fileName)\n",
    "            os.remove(fileName)\n",
    "    \n",
    "    def concFiles(self):\n",
    "        self.printParams()\n",
    "        self.outFiles = []\n",
    "        self.inFiles = os.listdir(self.inPath)\n",
    "        self.opFile = os.path.join(self.outPath, \"Video_conc.mp4\")\n",
    "        fileInd = []\n",
    "        cmd = \"ffmpeg -i \\\"concat:\"\n",
    "        for i in range(self.sInd, self.eInd + 1):\n",
    "            fileInd.append(str(i).zfill(4))\n",
    "        for fileName in self.inFiles:\n",
    "            if \".mp4\" in fileName:\n",
    "                ind = fileName.split(\"_\")[1]\n",
    "                ind = ind.split(\".\")[0]\n",
    "                if ind in fileInd:\n",
    "                    fileName = os.path.join(self.inPath, fileName)\n",
    "                    outFile = self.convTS(fileName)\n",
    "                    self.outFiles.append(outFile)\n",
    "                    cmd += outFile + \"|\"\n",
    "        cmd = cmd[:-1]\n",
    "        cmd = cmd +  \"\\\" -c copy \" + self.opFile\n",
    "        \n",
    "        print(\"Concatenating Files\")\n",
    "        os.system(cmd)\n",
    "        self.removeFiles()\n",
    "        "
   ]
  },
  {
   "cell_type": "markdown",
   "metadata": {},
   "source": [
    "## Main Function"
   ]
  },
  {
   "cell_type": "code",
   "execution_count": 54,
   "metadata": {},
   "outputs": [],
   "source": [
    "def main():\n",
    "    rcfg = readCFG()\n",
    "    INPUT_PATH, OUTPUT_PATH, START_INDEX, END_INDEX = rcfg.getIP()\n",
    "    \n",
    "    cv = concatenateVids(INPUT_PATH, OUTPUT_PATH, START_INDEX, END_INDEX)\n",
    "    cv.concFiles()"
   ]
  },
  {
   "cell_type": "code",
   "execution_count": 55,
   "metadata": {},
   "outputs": [
    {
     "name": "stdout",
     "output_type": "stream",
     "text": [
      "Input Video Path =  D:\\Ride_Videos\\May_24_BigSur\\2min\n",
      "Concatenated Video Files will be saved here =  D:\\Ride_Videos\\May_24_BigSur\\conc\n",
      "First file to be merged is at index =  0\n",
      "Last file to be merged is at index =  32\n",
      "Converting  D:\\Ride_Videos\\May_24_BigSur\\2min\\Video_0000.mp4  to  D:\\Ride_Videos\\May_24_BigSur\\2min\\Video_0000.ts\n",
      "Converting  D:\\Ride_Videos\\May_24_BigSur\\2min\\Video_0001.mp4  to  D:\\Ride_Videos\\May_24_BigSur\\2min\\Video_0001.ts\n",
      "Converting  D:\\Ride_Videos\\May_24_BigSur\\2min\\Video_0002.mp4  to  D:\\Ride_Videos\\May_24_BigSur\\2min\\Video_0002.ts\n",
      "Converting  D:\\Ride_Videos\\May_24_BigSur\\2min\\Video_0003.mp4  to  D:\\Ride_Videos\\May_24_BigSur\\2min\\Video_0003.ts\n",
      "Converting  D:\\Ride_Videos\\May_24_BigSur\\2min\\Video_0004.mp4  to  D:\\Ride_Videos\\May_24_BigSur\\2min\\Video_0004.ts\n",
      "Converting  D:\\Ride_Videos\\May_24_BigSur\\2min\\Video_0005.mp4  to  D:\\Ride_Videos\\May_24_BigSur\\2min\\Video_0005.ts\n",
      "Converting  D:\\Ride_Videos\\May_24_BigSur\\2min\\Video_0006.mp4  to  D:\\Ride_Videos\\May_24_BigSur\\2min\\Video_0006.ts\n",
      "Converting  D:\\Ride_Videos\\May_24_BigSur\\2min\\Video_0007.mp4  to  D:\\Ride_Videos\\May_24_BigSur\\2min\\Video_0007.ts\n",
      "Converting  D:\\Ride_Videos\\May_24_BigSur\\2min\\Video_0008.mp4  to  D:\\Ride_Videos\\May_24_BigSur\\2min\\Video_0008.ts\n",
      "Converting  D:\\Ride_Videos\\May_24_BigSur\\2min\\Video_0009.mp4  to  D:\\Ride_Videos\\May_24_BigSur\\2min\\Video_0009.ts\n",
      "Converting  D:\\Ride_Videos\\May_24_BigSur\\2min\\Video_0010.mp4  to  D:\\Ride_Videos\\May_24_BigSur\\2min\\Video_0010.ts\n",
      "Converting  D:\\Ride_Videos\\May_24_BigSur\\2min\\Video_0011.mp4  to  D:\\Ride_Videos\\May_24_BigSur\\2min\\Video_0011.ts\n",
      "Converting  D:\\Ride_Videos\\May_24_BigSur\\2min\\Video_0012.mp4  to  D:\\Ride_Videos\\May_24_BigSur\\2min\\Video_0012.ts\n",
      "Converting  D:\\Ride_Videos\\May_24_BigSur\\2min\\Video_0013.mp4  to  D:\\Ride_Videos\\May_24_BigSur\\2min\\Video_0013.ts\n",
      "Converting  D:\\Ride_Videos\\May_24_BigSur\\2min\\Video_0014.mp4  to  D:\\Ride_Videos\\May_24_BigSur\\2min\\Video_0014.ts\n",
      "Converting  D:\\Ride_Videos\\May_24_BigSur\\2min\\Video_0015.mp4  to  D:\\Ride_Videos\\May_24_BigSur\\2min\\Video_0015.ts\n",
      "Converting  D:\\Ride_Videos\\May_24_BigSur\\2min\\Video_0016.mp4  to  D:\\Ride_Videos\\May_24_BigSur\\2min\\Video_0016.ts\n",
      "Converting  D:\\Ride_Videos\\May_24_BigSur\\2min\\Video_0017.mp4  to  D:\\Ride_Videos\\May_24_BigSur\\2min\\Video_0017.ts\n",
      "Converting  D:\\Ride_Videos\\May_24_BigSur\\2min\\Video_0018.mp4  to  D:\\Ride_Videos\\May_24_BigSur\\2min\\Video_0018.ts\n",
      "Converting  D:\\Ride_Videos\\May_24_BigSur\\2min\\Video_0019.mp4  to  D:\\Ride_Videos\\May_24_BigSur\\2min\\Video_0019.ts\n",
      "Converting  D:\\Ride_Videos\\May_24_BigSur\\2min\\Video_0020.mp4  to  D:\\Ride_Videos\\May_24_BigSur\\2min\\Video_0020.ts\n",
      "Converting  D:\\Ride_Videos\\May_24_BigSur\\2min\\Video_0021.mp4  to  D:\\Ride_Videos\\May_24_BigSur\\2min\\Video_0021.ts\n",
      "Converting  D:\\Ride_Videos\\May_24_BigSur\\2min\\Video_0022.mp4  to  D:\\Ride_Videos\\May_24_BigSur\\2min\\Video_0022.ts\n",
      "Converting  D:\\Ride_Videos\\May_24_BigSur\\2min\\Video_0023.mp4  to  D:\\Ride_Videos\\May_24_BigSur\\2min\\Video_0023.ts\n",
      "Converting  D:\\Ride_Videos\\May_24_BigSur\\2min\\Video_0024.mp4  to  D:\\Ride_Videos\\May_24_BigSur\\2min\\Video_0024.ts\n",
      "Converting  D:\\Ride_Videos\\May_24_BigSur\\2min\\Video_0025.mp4  to  D:\\Ride_Videos\\May_24_BigSur\\2min\\Video_0025.ts\n",
      "Converting  D:\\Ride_Videos\\May_24_BigSur\\2min\\Video_0026.mp4  to  D:\\Ride_Videos\\May_24_BigSur\\2min\\Video_0026.ts\n",
      "Converting  D:\\Ride_Videos\\May_24_BigSur\\2min\\Video_0027.mp4  to  D:\\Ride_Videos\\May_24_BigSur\\2min\\Video_0027.ts\n",
      "Converting  D:\\Ride_Videos\\May_24_BigSur\\2min\\Video_0028.mp4  to  D:\\Ride_Videos\\May_24_BigSur\\2min\\Video_0028.ts\n",
      "Converting  D:\\Ride_Videos\\May_24_BigSur\\2min\\Video_0029.mp4  to  D:\\Ride_Videos\\May_24_BigSur\\2min\\Video_0029.ts\n",
      "Converting  D:\\Ride_Videos\\May_24_BigSur\\2min\\Video_0030.mp4  to  D:\\Ride_Videos\\May_24_BigSur\\2min\\Video_0030.ts\n",
      "Converting  D:\\Ride_Videos\\May_24_BigSur\\2min\\Video_0031.mp4  to  D:\\Ride_Videos\\May_24_BigSur\\2min\\Video_0031.ts\n",
      "Concatenating Files\n",
      "Removing ts Files\n",
      "Removing file =  D:\\Ride_Videos\\May_24_BigSur\\2min\\Video_0000.ts\n",
      "Removing file =  D:\\Ride_Videos\\May_24_BigSur\\2min\\Video_0001.ts\n",
      "Removing file =  D:\\Ride_Videos\\May_24_BigSur\\2min\\Video_0002.ts\n",
      "Removing file =  D:\\Ride_Videos\\May_24_BigSur\\2min\\Video_0003.ts\n",
      "Removing file =  D:\\Ride_Videos\\May_24_BigSur\\2min\\Video_0004.ts\n",
      "Removing file =  D:\\Ride_Videos\\May_24_BigSur\\2min\\Video_0005.ts\n",
      "Removing file =  D:\\Ride_Videos\\May_24_BigSur\\2min\\Video_0006.ts\n",
      "Removing file =  D:\\Ride_Videos\\May_24_BigSur\\2min\\Video_0007.ts\n",
      "Removing file =  D:\\Ride_Videos\\May_24_BigSur\\2min\\Video_0008.ts\n",
      "Removing file =  D:\\Ride_Videos\\May_24_BigSur\\2min\\Video_0009.ts\n",
      "Removing file =  D:\\Ride_Videos\\May_24_BigSur\\2min\\Video_0010.ts\n",
      "Removing file =  D:\\Ride_Videos\\May_24_BigSur\\2min\\Video_0011.ts\n",
      "Removing file =  D:\\Ride_Videos\\May_24_BigSur\\2min\\Video_0012.ts\n",
      "Removing file =  D:\\Ride_Videos\\May_24_BigSur\\2min\\Video_0013.ts\n",
      "Removing file =  D:\\Ride_Videos\\May_24_BigSur\\2min\\Video_0014.ts\n",
      "Removing file =  D:\\Ride_Videos\\May_24_BigSur\\2min\\Video_0015.ts\n",
      "Removing file =  D:\\Ride_Videos\\May_24_BigSur\\2min\\Video_0016.ts\n",
      "Removing file =  D:\\Ride_Videos\\May_24_BigSur\\2min\\Video_0017.ts\n",
      "Removing file =  D:\\Ride_Videos\\May_24_BigSur\\2min\\Video_0018.ts\n",
      "Removing file =  D:\\Ride_Videos\\May_24_BigSur\\2min\\Video_0019.ts\n",
      "Removing file =  D:\\Ride_Videos\\May_24_BigSur\\2min\\Video_0020.ts\n",
      "Removing file =  D:\\Ride_Videos\\May_24_BigSur\\2min\\Video_0021.ts\n",
      "Removing file =  D:\\Ride_Videos\\May_24_BigSur\\2min\\Video_0022.ts\n",
      "Removing file =  D:\\Ride_Videos\\May_24_BigSur\\2min\\Video_0023.ts\n",
      "Removing file =  D:\\Ride_Videos\\May_24_BigSur\\2min\\Video_0024.ts\n",
      "Removing file =  D:\\Ride_Videos\\May_24_BigSur\\2min\\Video_0025.ts\n",
      "Removing file =  D:\\Ride_Videos\\May_24_BigSur\\2min\\Video_0026.ts\n",
      "Removing file =  D:\\Ride_Videos\\May_24_BigSur\\2min\\Video_0027.ts\n",
      "Removing file =  D:\\Ride_Videos\\May_24_BigSur\\2min\\Video_0028.ts\n",
      "Removing file =  D:\\Ride_Videos\\May_24_BigSur\\2min\\Video_0029.ts\n",
      "Removing file =  D:\\Ride_Videos\\May_24_BigSur\\2min\\Video_0030.ts\n",
      "Removing file =  D:\\Ride_Videos\\May_24_BigSur\\2min\\Video_0031.ts\n"
     ]
    }
   ],
   "source": [
    "if __name__ ==\"__main__\":\n",
    "    main()"
   ]
  }
 ],
 "metadata": {
  "kernelspec": {
   "display_name": "aeEnv",
   "language": "python",
   "name": "aeenv"
  },
  "language_info": {
   "codemirror_mode": {
    "name": "ipython",
    "version": 3
   },
   "file_extension": ".py",
   "mimetype": "text/x-python",
   "name": "python",
   "nbconvert_exporter": "python",
   "pygments_lexer": "ipython3",
   "version": "3.8.3"
  }
 },
 "nbformat": 4,
 "nbformat_minor": 4
}
