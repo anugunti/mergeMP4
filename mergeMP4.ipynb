{
 "cells": [
  {
   "cell_type": "markdown",
   "metadata": {},
   "source": [
    "## Imports"
   ]
  },
  {
   "cell_type": "code",
   "execution_count": 11,
   "metadata": {},
   "outputs": [
    {
     "ename": "ModuleNotFoundError",
     "evalue": "No module named 'skvideo'",
     "output_type": "error",
     "traceback": [
      "\u001b[1;31m---------------------------------------------------------------------------\u001b[0m",
      "\u001b[1;31mModuleNotFoundError\u001b[0m                       Traceback (most recent call last)",
      "\u001b[1;32m<ipython-input-11-8fbef89bb8c9>\u001b[0m in \u001b[0;36m<module>\u001b[1;34m\u001b[0m\n\u001b[0;32m      3\u001b[0m \u001b[1;32mimport\u001b[0m \u001b[0mimageio\u001b[0m\u001b[1;33m\u001b[0m\u001b[1;33m\u001b[0m\u001b[0m\n\u001b[0;32m      4\u001b[0m \u001b[1;32mimport\u001b[0m \u001b[0mpylab\u001b[0m\u001b[1;33m\u001b[0m\u001b[1;33m\u001b[0m\u001b[0m\n\u001b[1;32m----> 5\u001b[1;33m \u001b[1;32mimport\u001b[0m \u001b[0mskvideo\u001b[0m\u001b[1;33m.\u001b[0m\u001b[0mio\u001b[0m\u001b[1;33m\u001b[0m\u001b[1;33m\u001b[0m\u001b[0m\n\u001b[0m",
      "\u001b[1;31mModuleNotFoundError\u001b[0m: No module named 'skvideo'"
     ]
    }
   ],
   "source": [
    "import os\n",
    "import sys\n",
    "import imageio\n",
    "import pylab\n",
    "import skvideo.io"
   ]
  },
  {
   "cell_type": "markdown",
   "metadata": {},
   "source": [
    "## Class to read config"
   ]
  },
  {
   "cell_type": "code",
   "execution_count": 8,
   "metadata": {},
   "outputs": [],
   "source": [
    "class readCFG:\n",
    "    def __init__(self):\n",
    "        self.INPUT_PATH = \"\"\n",
    "        self.START_INDEX = \"\"\n",
    "        self.END_INDEX = \"\"\n",
    "        self.OUTPUT_PATH = \"\"\n",
    "        self.currentPath = os.getcwd()\n",
    "    \n",
    "    def getIP(self):\n",
    "        cfgFile = \"inputs.cfg\"\n",
    "        with open(cfgFile, 'r') as inFile:\n",
    "            self.params = inFile.readlines()\n",
    "        inFile.close()\n",
    "        paramIDs = ['INPUT_PATH', 'START_INDEX', 'END_INDEX', 'OUTPUT_PATH']\n",
    "        paramVals = [\"\", \"\", \"\", \"\", \"\", \"\"]\n",
    "        for item in self.params:\n",
    "            item = item.rstrip(\"\\n\")\n",
    "            item = item.replace(\" \", \"\")\n",
    "            item = item.split(\"=\")\n",
    "            ind = paramIDs.index(item[0])\n",
    "            paramVals[ind] = item[1]\n",
    "        \n",
    "        self.INPUT_PATH = os.path.abspath(paramVals[0])\n",
    "        self.START_INDEX = int(paramVals[1])\n",
    "        if paramVals[3] == \"\":\n",
    "            self.OUTPUT_PATH = self.INPUT_PATH\n",
    "        else:\n",
    "            self.OUTPUT_PATH = os.path.abspath(paramVals[3])\n",
    "    \n",
    "        if not os.path.isdir(self.INPUT_PATH):\n",
    "            print(\"Input Path does not exist! Please check the path in the config file\")\n",
    "            sys.exit(0)\n",
    "        if not os.path.isdir(self.OUTPUT_PATH):\n",
    "            os.makedirs(self.OUTPUT_PATH)\n",
    "        \n",
    "        self.files = os.listdir(self.INPUT_PATH)\n",
    "        if len(self.files) == 0:\n",
    "            print(\"Input Directory is empty! No files to rename\")\n",
    "            sys.exit(0)\n",
    "        if paramVals[2] == \"\":\n",
    "            self.END_INDEX = len(self.files)\n",
    "        else:\n",
    "            self.END_INDEX = int(paramVals[2])\n",
    "        return self.INPUT_PATH, self.OUTPUT_PATH, self.START_INDEX, self.END_INDEX"
   ]
  },
  {
   "cell_type": "markdown",
   "metadata": {},
   "source": [
    "## Main Function"
   ]
  },
  {
   "cell_type": "code",
   "execution_count": 9,
   "metadata": {},
   "outputs": [],
   "source": [
    "def main():\n",
    "    rcfg = readCFG()\n",
    "    INPUT_PATH, OUTPUT_PATH, START_INDEX, END_INDEX = rcfg.getIP()"
   ]
  },
  {
   "cell_type": "code",
   "execution_count": 10,
   "metadata": {},
   "outputs": [
    {
     "name": "stdout",
     "output_type": "stream",
     "text": [
      "D:\\Ride_Videos\\May_24_BigSur\\2min\n",
      "32\n"
     ]
    }
   ],
   "source": [
    "if __name__ ==\"__main__\":\n",
    "    main()"
   ]
  }
 ],
 "metadata": {
  "kernelspec": {
   "display_name": "Python 3",
   "language": "python",
   "name": "python3"
  },
  "language_info": {
   "codemirror_mode": {
    "name": "ipython",
    "version": 3
   },
   "file_extension": ".py",
   "mimetype": "text/x-python",
   "name": "python",
   "nbconvert_exporter": "python",
   "pygments_lexer": "ipython3",
   "version": "3.8.3"
  }
 },
 "nbformat": 4,
 "nbformat_minor": 4
}
